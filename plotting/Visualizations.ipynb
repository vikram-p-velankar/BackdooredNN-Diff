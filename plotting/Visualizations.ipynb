{
 "cells": [
  {
   "cell_type": "code",
   "execution_count": null,
   "metadata": {},
   "outputs": [],
   "source": [
    "import torch\n",
    "from plotting.featurespace_visualizations import *\n",
    "import os\n",
    "import pickle\n",
    "import numpy as np\n",
    "import pandas as pd\n",
    "import seaborn as sns\n",
    "import matplotlib.pyplot as plt\n",
    "import warnings\n",
    "warnings.filterwarnings('ignore')"
   ]
  },
  {
   "cell_type": "code",
   "execution_count": null,
   "metadata": {},
   "outputs": [],
   "source": [
    "use_cuda = torch.cuda.is_available()\n",
    "device = torch.device(\"cuda:0\" if use_cuda else \"cpu\")\n",
    "torch.backends.cudnn.benchmark = True"
   ]
  },
  {
   "cell_type": "markdown",
   "metadata": {},
   "source": [
    "## Bullseye"
   ]
  },
  {
   "cell_type": "code",
   "execution_count": null,
   "metadata": {},
   "outputs": [],
   "source": [
    "base_class = 5\n",
    "target_class = 0\n",
    "\n",
    "poison_ids = pickle.load( open( \"./models/bullseye_transfer_undefended/poison_indices.pickle\", \"rb\" ) ).cpu().numpy()\n",
    "poison_ids = list(map(str, poison_ids))\n"
   ]
  },
  {
   "cell_type": "code",
   "execution_count": null,
   "metadata": {
    "jupyter": {
     "outputs_hidden": true
    }
   },
   "outputs": [],
   "source": [
    "generate_plots('./models/bullseye_transfer',\"bullseye\",genplot_centroid_prob_2d, target_class, base_class,poison_ids, device)"
   ]
  },
  {
   "cell_type": "code",
   "execution_count": null,
   "metadata": {
    "jupyter": {
     "outputs_hidden": true
    }
   },
   "outputs": [],
   "source": [
    "generate_plots('./models/bullseye_transfer',\"bullseye\",genplot_centroid_prob_3d, target_class, base_class,poison_ids, device)"
   ]
  },
  {
   "cell_type": "markdown",
   "metadata": {},
   "source": [
    "## Witches Brew"
   ]
  },
  {
   "cell_type": "code",
   "execution_count": null,
   "metadata": {},
   "outputs": [],
   "source": [
    "base_class = 5\n",
    "target_class = 1\n",
    "\n",
    "poison_ids = pickle.load( open( \"./models/wbrew_fromscratch_undefended/poison_indices.pickle\", \"rb\" ) ).cpu().numpy()\n",
    "poison_ids = list(map(str, poison_ids))"
   ]
  },
  {
   "cell_type": "code",
   "execution_count": null,
   "metadata": {
    "jupyter": {
     "outputs_hidden": true
    }
   },
   "outputs": [],
   "source": [
    "generate_plots('./models/wbrew_fromscratch','wb',genplot_centroid_prob_2d, target_class, base_class,poison_ids, device)"
   ]
  },
  {
   "cell_type": "code",
   "execution_count": null,
   "metadata": {
    "jupyter": {
     "outputs_hidden": true
    }
   },
   "outputs": [],
   "source": [
    "generate_plots('./models/wbrew_fromscratch','wb',genplot_centroid_prob_3d, target_class, base_class,poison_ids, device)"
   ]
  },
  {
   "cell_type": "markdown",
   "metadata": {},
   "source": [
    "### Poison Frogs"
   ]
  },
  {
   "cell_type": "code",
   "execution_count": null,
   "metadata": {},
   "outputs": [],
   "source": [
    "base_class = 8\n",
    "target_class = 0\n",
    "\n",
    "poison_ids = pickle.load( open( \"./models/poisonfrogs_transfer_undefended/poison_indices.pickle\", \"rb\" ) ).cpu().numpy()\n",
    "poison_ids = list(map(str, poison_ids))\n"
   ]
  },
  {
   "cell_type": "code",
   "execution_count": null,
   "metadata": {
    "jupyter": {
     "outputs_hidden": true
    }
   },
   "outputs": [],
   "source": [
    "generate_plots('./models/poisonfrogs_transfer','poison_frogs',genplot_centroid_prob_2d, target_class, base_class,poison_ids, device)"
   ]
  },
  {
   "cell_type": "code",
   "execution_count": null,
   "metadata": {
    "jupyter": {
     "outputs_hidden": true
    }
   },
   "outputs": [],
   "source": [
    "generate_plots('./models/poisonfrogs_transfer','poison_frogs',genplot_centroid_prob_3d, target_class, base_class,poison_ids, device)"
   ]
  },
  {
   "cell_type": "markdown",
   "metadata": {},
   "source": [
    "### Gradient Matching"
   ]
  },
  {
   "cell_type": "code",
   "execution_count": null,
   "metadata": {},
   "outputs": [],
   "source": [
    "base_class = 8\n",
    "target_class = 0\n",
    "\n",
    "poison_ids = pickle.load( open( \"./models/gradmatching_transfer_undefended/poison_indices.pickle\", \"rb\" ) ).cpu().numpy()\n",
    "poison_ids = list(map(str, poison_ids))\n"
   ]
  },
  {
   "cell_type": "code",
   "execution_count": null,
   "metadata": {
    "jupyter": {
     "outputs_hidden": true
    }
   },
   "outputs": [],
   "source": [
    "generate_plots('./models/gradmatching_transfer',\"gm_transfer\",genplot_centroid_prob_2d, target_class, base_class,poison_ids, device)"
   ]
  },
  {
   "cell_type": "code",
   "execution_count": null,
   "metadata": {
    "jupyter": {
     "outputs_hidden": true
    }
   },
   "outputs": [],
   "source": [
    "generate_plots('./models/gradmatching_transfer',\"gm_transfer\",genplot_centroid_prob_3d, target_class, base_class,poison_ids, device)"
   ]
  },
  {
   "cell_type": "markdown",
   "metadata": {},
   "source": [
    "## Patch"
   ]
  },
  {
   "cell_type": "code",
   "execution_count": null,
   "metadata": {},
   "outputs": [],
   "source": [
    "main_path = './models/patch'\n",
    "model_name = 'patch'\n",
    "base_class = 8\n",
    "target_class = 2\n",
    "\n",
    "poison_ids = pickle.load( open( \"./models/patch_undefended/poison_indices.pickle\", \"rb\" ) ).cpu().numpy()\n",
    "poison_ids = list(map(str, poison_ids))\n",
    "len(poison_ids)"
   ]
  },
  {
   "cell_type": "code",
   "execution_count": null,
   "metadata": {
    "jupyter": {
     "outputs_hidden": true
    }
   },
   "outputs": [],
   "source": [
    "generate_plots('./models/patch',\"patch\",genplot_centroid_prob_2d_patch, target_class, base_class,poison_ids, device)"
   ]
  },
  {
   "cell_type": "code",
   "execution_count": null,
   "metadata": {
    "jupyter": {
     "outputs_hidden": true
    }
   },
   "outputs": [],
   "source": [
    "generate_plots('./models/patch',\"patch\",genplot_centroid_3d_patch, target_class, base_class,poison_ids, device)"
   ]
  },
  {
   "cell_type": "markdown",
   "metadata": {},
   "source": [
    "### To generate the legend separately"
   ]
  },
  {
   "cell_type": "code",
   "execution_count": null,
   "metadata": {},
   "outputs": [],
   "source": [
    "import numpy as np\n",
    "import matplotlib.pyplot as plt\n",
    "from matplotlib.lines import Line2D\n",
    "plt.rc('legend',**{'fontsize':30})\n",
    "import pylab\n",
    "\n",
    "legend_properties = {'weight':'medium'}\n",
    "\n",
    "legend_elements = [Line2D([0], [0], marker='o', color='w', label='target class',\n",
    "                          markerfacecolor='blue', markersize=15),\n",
    "                   Line2D([0], [0], marker='o', color='w', label='poison class',\n",
    "                          markerfacecolor='green', markersize=15,alpha=0.8),\n",
    "                   Line2D([0], [0], marker='o', color='w', label='poison',\n",
    "                          markerfacecolor='red', markersize=15),\n",
    "                   Line2D([0], [0], marker='^', color='w', label='target',\n",
    "                          markerfacecolor='black', markersize=30)\n",
    "                   ]\n",
    "fig = pylab.figure()\n",
    "legend_fig = pylab.figure(figsize=(14,1.5))\n",
    "legend = legend_fig.legend(handles=legend_elements,ncol=4,\n",
    "                           loc='center',prop=legend_properties)\n",
    "legend.get_frame().set_color('1')\n",
    "legend_fig.canvas.draw()\n",
    "plt.rc('legend',**{'fontsize':30})\n",
    "legend_fig.savefig('./plots/legend.pdf',\n",
    "    bbox_inches=legend.get_window_extent().transformed(legend_fig.dpi_scale_trans.inverted()))"
   ]
  },
  {
   "cell_type": "code",
   "execution_count": null,
   "metadata": {},
   "outputs": [],
   "source": []
  }
 ],
 "metadata": {
  "kernelspec": {
   "display_name": "Python 3",
   "language": "python",
   "name": "python3"
  },
  "language_info": {
   "codemirror_mode": {
    "name": "ipython",
    "version": 3
   },
   "file_extension": ".py",
   "mimetype": "text/x-python",
   "name": "python",
   "nbconvert_exporter": "python",
   "pygments_lexer": "ipython3",
   "version": "3.9.2"
  }
 },
 "nbformat": 4,
 "nbformat_minor": 4
}
